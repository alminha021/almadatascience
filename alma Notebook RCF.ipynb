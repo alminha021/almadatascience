{
    "cells": [
        {
            "cell_type": "code",
            "execution_count": 1,
            "metadata": {},
            "outputs": [
                {
                    "name": "stdout",
                    "output_type": "stream",
                    "text": "29\n"
                }
            ],
            "source": "print(11+18)\n"
        },
        {
            "cell_type": "markdown",
            "metadata": {},
            "source": "Ola, estou rodando"
        },
        {
            "cell_type": "raw",
            "metadata": {},
            "source": "OK!"
        },
        {
            "cell_type": "markdown",
            "metadata": {},
            "source": "# START"
        },
        {
            "cell_type": "markdown",
            "metadata": {},
            "source": "## GO"
        },
        {
            "cell_type": "code",
            "execution_count": null,
            "metadata": {},
            "outputs": [],
            "source": ""
        }
    ],
    "metadata": {
        "kernelspec": {
            "display_name": "Python 3.10",
            "language": "python",
            "name": "python3"
        },
        "language_info": {
            "codemirror_mode": {
                "name": "ipython",
                "version": 3
            },
            "file_extension": ".py",
            "mimetype": "text/x-python",
            "name": "python",
            "nbconvert_exporter": "python",
            "pygments_lexer": "ipython3",
            "version": "3.10.9"
        }
    },
    "nbformat": 4,
    "nbformat_minor": 1
}